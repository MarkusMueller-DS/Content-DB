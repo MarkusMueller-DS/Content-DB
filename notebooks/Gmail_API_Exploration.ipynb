{
 "cells": [
  {
   "cell_type": "markdown",
   "source": [
    "# Gmail Newsletter Exploration\n",
    "\n",
    "### Goal\n",
    "- explore the features of the Gmail api \n",
    "- gather relevant newsletter mails form the mailbox\n",
    "- scrape newsletter based on thier Design so that i can standardize the database article mentioned in the mails\n",
    "\n",
    "### DB-Layout\n",
    "- id\n",
    "- url\n",
    "- content name\n",
    "- type of content\n",
    "- full text or snippet of content"
   ],
   "metadata": {}
  },
  {
   "cell_type": "code",
   "execution_count": 2,
   "source": [
    "# imports\n",
    "from google.oauth2.credentials import Credentials   # handel auth\n",
    "from googleapiclient.discovery import build         # used to make the queries\n",
    "\n",
    "import os.path                  # handle paths\n",
    "import base64                   # decrypt mail data\n",
    "from bs4 import BeautifulSoup   # parse data after decryption"
   ],
   "outputs": [],
   "metadata": {}
  },
  {
   "cell_type": "markdown",
   "source": [
    "relevant paramters for list()\n",
    "- maxResult: default 100 / up to 500\n",
    "- q: only returns messages matching a query \"from:lon@dataelixir.com\"     \n",
    "- pageToken: \"retrive a specific page of result in a list\""
   ],
   "metadata": {}
  },
  {
   "cell_type": "code",
   "execution_count": 31,
   "source": [
    "# Define SCOPES\n",
    "# relevant for auth\n",
    "SCOPES = ['https://www.googleapis.com/auth/gmail.readonly']\n",
    "\n",
    "pathToToken = '/Users/markusmuller/python/projects/gmail-newsletter-db/token.json'\n",
    "\n",
    "creds = Credentials.from_authorized_user_file(pathToToken, SCOPES)\n",
    "\n",
    "# connect to Gmail api\n",
    "service = build('gmail', 'v1', credentials=creds)\n",
    "\n",
    "# request a list of all the messages\n",
    "result = service.users().messages().list(userId='markus.mueller.ds@gmail.com').execute()"
   ],
   "outputs": [],
   "metadata": {}
  },
  {
   "cell_type": "code",
   "execution_count": 35,
   "source": [
    "print(type(result))\n",
    "# frirst 10 result of \n",
    "print(result['messages'][:10])\n",
    "print('Next page Token: ',  result['nextPageToken'])\n",
    "print('length: ', len(result['messages']))"
   ],
   "outputs": [
    {
     "output_type": "stream",
     "name": "stdout",
     "text": [
      "<class 'dict'>\n",
      "[{'id': '17bed324d52f36ee', 'threadId': '17bed324d52f36ee'}, {'id': '17beb2ea7a06eb5e', 'threadId': '17beb2ea7a06eb5e'}, {'id': '17be8bcdaa338b35', 'threadId': '17be8bcdaa338b35'}, {'id': '17be5f07abd13e84', 'threadId': '17be5f07abd13e84'}, {'id': '17be5ac70eaf3f1d', 'threadId': '17be5ac70eaf3f1d'}, {'id': '17be368851c51489', 'threadId': '17be368851c51489'}, {'id': '17be067784b98401', 'threadId': '17be067784b98401'}, {'id': '17bdf62d721058f5', 'threadId': '17bdf62d721058f5'}, {'id': '17bdafc60ea3954c', 'threadId': '17bdafc60ea3954c'}, {'id': '17bd51b3bf685077', 'threadId': '17bd51b3bf685077'}]\n",
      "Next page Token:  10546748924264687126\n",
      "length:  100\n"
     ]
    }
   ],
   "metadata": {}
  },
  {
   "cell_type": "markdown",
   "source": [
    "Now we can use the ids to get the content of the mails"
   ],
   "metadata": {}
  },
  {
   "cell_type": "code",
   "execution_count": 19,
   "source": [
    "msg_ids = result.get('messages')"
   ],
   "outputs": [],
   "metadata": {}
  },
  {
   "cell_type": "code",
   "execution_count": 28,
   "source": [
    "# get the data for one mail\n",
    "id_ = '17bed324d52f36ee'\n",
    "txt = service.users().messages().get(userId='me', id=id_).execute()\n"
   ],
   "outputs": [],
   "metadata": {}
  },
  {
   "cell_type": "markdown",
   "source": [
    "message object https://developers.google.com/gmail/api/reference/rest/v1/users.messages#Message:\n",
    "- id: ID of the message\n",
    "- threadId: The ID of the thread the message belongs to. \n",
    "- labelIds: List of IDs of labels applied to this message.\n",
    "- snippet: A short part of the message text.\n",
    "- historyId: The ID of the last history record that modified this message.\n",
    "- internalDate: The internal message creation timestamp (epoch ms)\n",
    "- payload: The parsed email structure in the message parts. (here is the relevant data)"
   ],
   "metadata": {}
  },
  {
   "cell_type": "code",
   "execution_count": 29,
   "source": [
    "print(txt.keys())"
   ],
   "outputs": [
    {
     "output_type": "stream",
     "name": "stdout",
     "text": [
      "dict_keys(['id', 'threadId', 'labelIds', 'snippet', 'payload', 'sizeEstimate', 'historyId', 'internalDate'])\n"
     ]
    }
   ],
   "metadata": {}
  },
  {
   "cell_type": "code",
   "execution_count": null,
   "source": [
    "payload = txt['payload']"
   ],
   "outputs": [],
   "metadata": {}
  },
  {
   "cell_type": "markdown",
   "source": [
    "Next cell saves the output in an external file os I can view the content "
   ],
   "metadata": {}
  },
  {
   "cell_type": "code",
   "execution_count": 42,
   "source": [
    "%%capture cap --no-stderr\n",
    "print(payload)\n",
    "with open('test.txt', 'w') as f:\n",
    "    f.write(str(cap))"
   ],
   "outputs": [],
   "metadata": {}
  },
  {
   "cell_type": "code",
   "execution_count": 52,
   "source": [
    "payload.keys()"
   ],
   "outputs": [
    {
     "output_type": "execute_result",
     "data": {
      "text/plain": [
       "dict_keys(['partId', 'mimeType', 'filename', 'headers', 'body', 'parts'])"
      ]
     },
     "metadata": {},
     "execution_count": 52
    }
   ],
   "metadata": {}
  },
  {
   "cell_type": "code",
   "execution_count": 53,
   "source": [
    "print(payload['headers'])"
   ],
   "outputs": [
    {
     "output_type": "stream",
     "name": "stdout",
     "text": [
      "[{'name': 'Delivered-To', 'value': 'markus.mueller.ds@gmail.com'}, {'name': 'Received', 'value': 'by 2002:a05:6e04:139c:0:0:0:0 with SMTP id be28csp2135701imb;        Wed, 15 Sep 2021 23:01:42 -0700 (PDT)'}, {'name': 'X-Google-Smtp-Source', 'value': 'ABdhPJyxdMCapZIZ5Y2skh15iwb4zjdvYJLLsM4QvWJA0SJ0kRLSxC91nVNXVGAVCOPtoTAajtQ2'}, {'name': 'X-Received', 'value': 'by 2002:a05:6902:110d:: with SMTP id o13mr4912149ybu.530.1631772101846;        Wed, 15 Sep 2021 23:01:41 -0700 (PDT)'}, {'name': 'ARC-Seal', 'value': 'i=1; a=rsa-sha256; t=1631772101; cv=none;        d=google.com; s=arc-20160816;        b=BQI6VxIPo295XbyRQYuNmSHaNs3p/jg82bkgLzhoIwVuSh9IfN+IQdEmXONgWqVhbJ         A8gtVP29JeiD2nEpEd+j/jQoiHlPowC2/1v+JIn3XcVIWKvu/Yzade4fEnGRjNOiFfMC         QNjRNBYEmW0GTwEMtEFYRZWjKf0btWjR+igqfKaPhv/4CekxQU7IdnC/mewIJeTYDsX1         h0SWLsDTwqVy5XHJUy8xszprwtvJCWqSmfpLK7r+EL1V3PuBzc0EzUunYoyjTOA3I9Tk         9t68bAN+Gc3Vo9IWsYLod+gJj+kpM550alSh+QQgA5CqbtbN9pilltmlE4+tyJkES/WO         qKzg=='}, {'name': 'ARC-Message-Signature', 'value': 'i=1; a=rsa-sha256; c=relaxed/relaxed; d=google.com; s=arc-20160816;        h=mime-version:list-unsubscribe-post:list-unsubscribe:list-id         :feedback-id:message-id:date:to:reply-to:from:subject:dkim-signature         :dkim-signature;        bh=1165KYCxl689EdDErQVR013tDTXC8+nqSQDKVu22k70=;        b=gLg4T9rILDOP5nfLSlHfV1sfozgETFUICSpUz5h8xBem/mpuOSffzgssD4jRrQ1lbW         k1qUjhbw8rd5cqltQsvZuCTuxx2LQ2vJ3b2EmiB/eH2IWDy5Hhh/uIQomGynzEHokeIK         XRmEqiWMVKAnyGd9eiKGFXQVmrPTxVZpYsY0XaKw/pOKz1nDIYwvle8kzczc3KttpP50         ofAIRnkThuLXMDNvx6IY3lLj2/BTtGiRIKX8HQb+Ipkz5ulx4+pyefrITZLgrC3Gh4EK         DV3I73GUm+HhhzL1SfgcqvbIx/nU7Vl8UmGTEdSx1ckVCw2SkpjlWqWvr63cQSS779xD         W66Q=='}, {'name': 'ARC-Authentication-Results', 'value': 'i=1; mx.google.com;       dkim=pass header.i=@mcc.mcsv.net header.s=k1 header.b=Q4c+SPzI;       dkim=pass header.i=@kdnuggets.com header.s=k2 header.b=\"QYE7xr+/\";       spf=pass (google.com: domain of bounce-mc.us12_50554633.321818-bfdfd73c17@mail224.suw18.rsgsv.net designates 198.2.181.224 as permitted sender) smtp.mailfrom=bounce-mc.us12_50554633.321818-bfdfd73c17@mail224.suw18.rsgsv.net;       dmarc=pass (p=QUARANTINE sp=QUARANTINE dis=NONE) header.from=kdnuggets.com'}, {'name': 'Return-Path', 'value': '<bounce-mc.us12_50554633.321818-bfdfd73c17@mail224.suw18.rsgsv.net>'}, {'name': 'Received', 'value': 'from mail224.suw18.rsgsv.net (mail224.suw18.rsgsv.net. [198.2.181.224])        by mx.google.com with ESMTPS id k190si2449219ybk.101.2021.09.15.23.01.41        for <Markus.mueller.ds@gmail.com>        (version=TLS1_2 cipher=ECDHE-ECDSA-AES128-GCM-SHA256 bits=128/128);        Wed, 15 Sep 2021 23:01:41 -0700 (PDT)'}, {'name': 'Received-SPF', 'value': 'pass (google.com: domain of bounce-mc.us12_50554633.321818-bfdfd73c17@mail224.suw18.rsgsv.net designates 198.2.181.224 as permitted sender) client-ip=198.2.181.224;'}, {'name': 'Authentication-Results', 'value': 'mx.google.com;       dkim=pass header.i=@mcc.mcsv.net header.s=k1 header.b=Q4c+SPzI;       dkim=pass header.i=@kdnuggets.com header.s=k2 header.b=\"QYE7xr+/\";       spf=pass (google.com: domain of bounce-mc.us12_50554633.321818-bfdfd73c17@mail224.suw18.rsgsv.net designates 198.2.181.224 as permitted sender) smtp.mailfrom=bounce-mc.us12_50554633.321818-bfdfd73c17@mail224.suw18.rsgsv.net;       dmarc=pass (p=QUARANTINE sp=QUARANTINE dis=NONE) header.from=kdnuggets.com'}, {'name': 'DKIM-Signature', 'value': 'v=1; a=rsa-sha256; c=relaxed/relaxed; d=mcc.mcsv.net; s=k1; t=1631771998; bh=1165KYCxl689EdDErQVR013tDTXC8+nqSQDKVu22k70=; h=Subject:From:Reply-To:To:Date:Message-ID:Feedback-ID:List-ID:\\t List-Unsubscribe:List-Unsubscribe-Post:Content-Type:MIME-Version; b=Q4c+SPzILD9VS+ynzRc332wsTNNqe8Tdf2W6WuYlU6WTc2M6QoCB+L4alfMZAi58t\\t haAV3wX884IZTCBsgDTkvv+/In1wPIWYfCGOn/q58/+/vhQviNLEHlvJOYLavjkazx\\t HHFeIrcowHnZHSKzxZ6WiuO1B8/scfw9P+tFAC61GJPH2e7rV4iK9y4o2N0Q2bRx0O\\t FwAubnXp6jtSudnsai7DYX4NCtuoSd0BG1uNYbnIJtuEZDI5RI9r2lkQmqfu00FcMl\\t 7zOmFygmkS4GSDmNIp6txk5m+0TkzJ3x0XhOgClOvonh5Smp1CJQNqd+Lc5+1az73m\\t QEj+WPiKofukg=='}, {'name': 'DKIM-Signature', 'value': 'v=1; a=rsa-sha256; c=relaxed/relaxed; d=kdnuggets.com; s=k2; t=1631771998; i=editor1@kdnuggets.com; bh=1165KYCxl689EdDErQVR013tDTXC8+nqSQDKVu22k70=; h=Subject:From:Reply-To:To:Date:Message-ID:List-ID:List-Unsubscribe:\\t List-Unsubscribe-Post:Content-Type:MIME-Version; b=QYE7xr+/SiZjPsZYNw6Iv+gdvoN6vLH02a9nGD7cySH2qa2c/hQitkaLJeePHMR3y\\t G+g0UZNTqx3yUK8cRqThOaduU0WKTxwP34ATprNZ+5Nu7WMUEYqzCdr1j/XKzQo6tO\\t U7owV3d8LXUZAuAvOH+xGOgeLhE9r4msHtoi0LSjrDzAD5ZM0fDpwg8kFI7HizIYoh\\t MCJxp2t6eRfBRu04xY7O1mg2tbO4NLU786yDDaIvxQd8Qbm3P692Z9o7XaEydf8Jf3\\t 3LftpxEewy0c45FHQu+e6EuoRRnjFii7IdDPoaOSLwXOEcrDCp3zgmzEQx8IFAdENn\\t iI899wSL5+BwA=='}, {'name': 'Received', 'value': 'from localhost (localhost [127.0.0.1]) by mail224.suw18.rsgsv.net (Mailchimp) with ESMTP id 4H95yk6zFDzp5KRs for <Markus.mueller.ds@gmail.com>; Thu, 16 Sep 2021 05:59:58 +0000 (GMT)'}, {'name': 'Subject', 'value': 'Intro to Data Labeling for Machine Learning'}, {'name': 'From', 'value': 'KDnuggets <editor1@kdnuggets.com>'}, {'name': 'Reply-To', 'value': 'KDnuggets <editor1@kdnuggets.com>'}, {'name': 'To', 'value': '<Markus.mueller.ds@gmail.com>'}, {'name': 'Date', 'value': 'Thu, 16 Sep 2021 05:59:57 +0000'}, {'name': 'Message-ID', 'value': '<4f2891ebb155b23f120ece0bd.bfdfd73c17.20210916055947.79acd481a2.01c3fbcb@mail224.suw18.rsgsv.net>'}, {'name': 'X-Mailer', 'value': 'MailChimp Mailer - **CID79acd481a2bfdfd73c17**'}, {'name': 'X-Campaign', 'value': 'mailchimp4f2891ebb155b23f120ece0bd.79acd481a2'}, {'name': 'X-campaignid', 'value': 'mailchimp4f2891ebb155b23f120ece0bd.79acd481a2'}, {'name': 'X-Report-Abuse', 'value': 'Please report abuse for this campaign here: https://mailchimp.com/contact/abuse/?u=4f2891ebb155b23f120ece0bd&id=79acd481a2&e=bfdfd73c17'}, {'name': 'X-MC-User', 'value': '4f2891ebb155b23f120ece0bd'}, {'name': 'Feedback-ID', 'value': '50554633:50554633.321818:us12:mc'}, {'name': 'List-ID', 'value': '4f2891ebb155b23f120ece0bdmc list <4f2891ebb155b23f120ece0bd.169725.list-id.mcsv.net>'}, {'name': 'X-Accounttype', 'value': 'pr'}, {'name': 'List-Unsubscribe', 'value': '<https://kdnuggets.us12.list-manage.com/unsubscribe?u=4f2891ebb155b23f120ece0bd&id=b2fa8716d2&e=bfdfd73c17&c=79acd481a2>, <mailto:unsubscribe-mc.us12_4f2891ebb155b23f120ece0bd.79acd481a2-bfdfd73c17@mailin.mcsv.net?subject=unsubscribe>'}, {'name': 'List-Unsubscribe-Post', 'value': 'List-Unsubscribe=One-Click'}, {'name': 'Content-Type', 'value': 'multipart/alternative; boundary=\"_----------=_MCPart_2127704198\"'}, {'name': 'MIME-Version', 'value': '1.0'}]\n"
     ]
    }
   ],
   "metadata": {}
  },
  {
   "cell_type": "code",
   "execution_count": 22,
   "source": [
    "for msg in msg_ids:\n",
    "    print(msg['id'])"
   ],
   "outputs": [
    {
     "output_type": "stream",
     "name": "stdout",
     "text": [
      "17bed324d52f36ee\n",
      "17beb2ea7a06eb5e\n",
      "17be8bcdaa338b35\n",
      "17be5f07abd13e84\n",
      "17be5ac70eaf3f1d\n",
      "17be368851c51489\n",
      "17be067784b98401\n",
      "17bdf62d721058f5\n",
      "17bdafc60ea3954c\n",
      "17bd51b3bf685077\n",
      "17bd4d4f6a8e5bd7\n",
      "17bd41ed7e3689c9\n",
      "17bd157766588699\n",
      "17bd053251a031b3\n",
      "17bcf5e615f87ecd\n",
      "17bcef38c960fc3b\n",
      "17bca0bc853a32f3\n",
      "17bc92883487c59a\n",
      "17bc6bf1817afc13\n",
      "17bc4a99883075e1\n",
      "17bc47ca455dea43\n",
      "17bc1e3e4c595966\n",
      "17bc17764ecf3708\n",
      "17bbf853dfebce27\n",
      "17bba2e6ee21ba8a\n",
      "17bb7432c5ae73c8\n",
      "17bb6870bb68b786\n",
      "17bb0770b57f10ee\n",
      "17bad571fe5322f8\n",
      "17bab51d2e5a93ff\n",
      "17bab5189de5ff8a\n",
      "17bab32fc35f68e2\n",
      "17ba5c0f63e5d7a6\n",
      "17ba598e729bf32b\n",
      "17ba349206733d4b\n",
      "17ba27ef25924242\n",
      "17ba0a53c538f36a\n",
      "17b9de70877d3d32\n",
      "17b9dd5d1c159068\n",
      "17b9d97f81a5b755\n",
      "17b9d3e197b14d4f\n",
      "17b8c4228e41efa3\n",
      "17b8c0b2c93af7d1\n",
      "17b890045309533f\n",
      "17b880171729f007\n",
      "17b87457879bb57f\n",
      "17b86ab90b36ee35\n",
      "17b829a3d641cc67\n",
      "17b7f2b2004c9889\n",
      "17b7c8c29c863548\n",
      "17b7c536cd4056ff\n",
      "17b79c95aed7e0a6\n",
      "17b797edd35042ff\n",
      "17b78787b99689b8\n",
      "17b77a030916434b\n",
      "17b7213fcd2d544f\n",
      "17b6f44da0eae264\n",
      "17b68bd606a5edde\n",
      "17b68035bfd5b604\n",
      "17b653999e95ddc1\n",
      "17b635db549f04ac\n",
      "17b6338d79acdd5e\n",
      "17b63061251c287e\n",
      "17b5e94d4de8f91f\n",
      "17b5da7ddeb42a02\n",
      "17b5ae5db53b1ef3\n",
      "17b58c81ef295ea4\n",
      "17b587ef70b09641\n",
      "17b55bca4211a8d8\n",
      "17b555d6233cb712\n",
      "17b546b40afe5421\n",
      "17b5390c85ea26ff\n",
      "17b4e02fc2048dcc\n",
      "17b44b0945caed6b\n",
      "17b43f177da6552a\n",
      "17b40feb8e5b8a03\n",
      "17b40a9332e41ec9\n",
      "17b40785fb74b467\n",
      "17b3f2c5e51bffa7\n",
      "17b39dc773a967cd\n",
      "17b39a24678a7cc1\n",
      "17b348465b5af49d\n",
      "17b31a781c138459\n",
      "17b31263df428414\n",
      "17b305e5cbc7d3a9\n",
      "17b29f5b10ba35ef\n",
      "17b207e46e1ea6cb\n",
      "17b1fd83cfc3564e\n",
      "17b1c6a10d71b231\n",
      "17b1bd34d3fd61fe\n",
      "17b1b7156152ed98\n",
      "17b1b1fda0eaded4\n",
      "17b1a7b722cc5175\n",
      "17b15c89d641e3a1\n",
      "17b14e8515e8eae5\n",
      "17b11b5f94c8db32\n",
      "17b1077078112e18\n",
      "17b1036fbf83d6e5\n",
      "17b0da3bf3520350\n",
      "17b0d42f4df1a3d3\n"
     ]
    }
   ],
   "metadata": {}
  },
  {
   "cell_type": "code",
   "execution_count": null,
   "source": [],
   "outputs": [],
   "metadata": {}
  }
 ],
 "metadata": {
  "orig_nbformat": 4,
  "language_info": {
   "name": "python",
   "version": "3.9.2",
   "mimetype": "text/x-python",
   "codemirror_mode": {
    "name": "ipython",
    "version": 3
   },
   "pygments_lexer": "ipython3",
   "nbconvert_exporter": "python",
   "file_extension": ".py"
  },
  "kernelspec": {
   "name": "python3",
   "display_name": "Python 3.9.2 64-bit ('base': conda)"
  },
  "interpreter": {
   "hash": "e8ae99d9c20b736ed1ebdc5d0d4557145eaffa6a1bc0849b3635b3af9b7f0aff"
  }
 },
 "nbformat": 4,
 "nbformat_minor": 2
}